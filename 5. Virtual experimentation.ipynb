{
 "cells": [
  {
   "cell_type": "code",
   "execution_count": null,
   "metadata": {},
   "outputs": [],
   "source": [
    "import numpy as np\n",
    "import pandas as pd\n",
    "\n",
    "num_parameters = 6\n",
    "num_combinations = 100000#5000 \n",
    "\n",
    "#dirichlet\n",
    "alpha = np.ones(num_parameters)\n",
    "#alpha = np.array([0.5, 0.5, 0.5, 0.5, 0.5, 0.5])\n",
    "combinations = np.random.dirichlet(alpha, num_combinations)\n",
    "\n",
    "\n",
    "columns = ['R1(HA)', 'R2(IA)', 'R3(NVP)', 'R4(AA)', 'R5(HEAA)', 'R6(IBOA)']\n",
    "new_test_df = pd.DataFrame(columns=columns)\n",
    "\n",
    "\n",
    "for combo in combinations:\n",
    "    rounded = np.round(combo[:-1] / 0.01) * 0.01\n",
    "    last_value = np.round((1 - np.sum(rounded)) / 0.01) * 0.01\n",
    "    if 0 <= last_value <= 1:\n",
    "        rounded = np.append(rounded, last_value)\n",
    "        if not ((rounded[1] + rounded[2] > 0.7 and rounded[0] > 0.2) or (np.sum(rounded[[0, 2, 3]]) < 0.05 and rounded[4] > 0.05 and rounded[1] > 0.05)):\n",
    "            new_test_df = new_test_df.append(pd.Series(rounded, index=columns), ignore_index=True)\n",
    "        if len(new_test_df) == num_combinations:\n",
    "            break\n",
    "\n",
    "new_test_df['e_value'] = 0\n",
    "\n",
    "new_test_df.to_csv('new_test_data2_PC8_1000000.csv', index=False)\n"
   ]
  },
  {
   "cell_type": "code",
   "execution_count": null,
   "metadata": {},
   "outputs": [],
   "source": [
    "# Load the new test data\n",
    "new_test_df = pd.read_csv('new_test_data2_PC8_1000000.csv')\n",
    "\n",
    "# Normalize the monomer values using the previously fitted scaler\n",
    "new_test_normalized = new_test_df[['R1(HA)', 'R2(IA)', 'R3(NVP)', 'R4(AA)', 'R5(HEAA)', 'R6(IBOA)', 'e_value']]\n",
    "#new_test_normalized = pd.DataFrame(scaler.transform(new_test_normalized), columns=new_test_normalized.columns)\n",
    "\n",
    "# Generate cross features\n",
    "for monomer in ['R1(HA)', 'R2(IA)', 'R3(NVP)', 'R4(AA)', 'R5(HEAA)', 'R6(IBOA)']:\n",
    "    for feature in monomers_info_df_normalized.columns:\n",
    "        new_test_df[f'{monomer}_{feature}'] = new_test_df[monomer] * monomers_info_df.loc[monomer, feature]\n",
    "\n",
    "# Select the relevant features for prediction\n",
    "X_new_test = new_test_df[X_columns]\n",
    "X_new_test = torch.FloatTensor(X_new_test.values)\n"
   ]
  },
  {
   "cell_type": "code",
   "execution_count": null,
   "metadata": {},
   "outputs": [],
   "source": [
    "#new_test_df[X_columns]"
   ]
  },
  {
   "cell_type": "code",
   "execution_count": null,
   "metadata": {},
   "outputs": [],
   "source": [
    "print(len(new_test_df[X_columns]))"
   ]
  },
  {
   "cell_type": "code",
   "execution_count": null,
   "metadata": {},
   "outputs": [],
   "source": [
    "model.eval()\n",
    "with torch.no_grad():\n",
    "    y_new_pred = model(X_new_test)\n",
    "\n",
    "# Convert predictions to NumPy array if needed\n",
    "y_new_pred_np = y_new_pred.numpy()\n",
    "\n",
    "\n",
    "# 使用PCA的逆变换进行数据重构\n",
    "y_new_pred_reconstructed = pca.inverse_transform(y_new_pred_np)\n",
    "\n",
    "# 确保它们是二维数组\n",
    "#y_test_reconstructed = y_test_reconstructed.reshape(-1, 50, 2)\n",
    "y_new_pred_reconstructed = y_new_pred_reconstructed.reshape(-1, 50, 2)\n",
    "print(\"done with all predict\")\n",
    "\n",
    "# 手动创建 e_values 数组以确保包含整数0\n",
    "e_values = np.arange(-1.5, 1.6, 0.3)  # 增加结束值以包括1.5\n",
    "e_values = np.sort(np.unique(np.append(e_values, 0)))  # 确保包含0并且值唯一"
   ]
  },
  {
   "cell_type": "code",
   "execution_count": null,
   "metadata": {
    "scrolled": true
   },
   "outputs": [],
   "source": [
    "save_folder = 'Virtual Experiments_set4_toughness10up_yeild_4less_last_10less_strain_250up'\n",
    "os.makedirs(save_folder, exist_ok=True)\n",
    "for i in range(y_new_pred_reconstructed.shape[0]):\n",
    "\n",
    "    strain = y_new_pred_reconstructed[i][:, 0]\n",
    "    stress = y_new_pred_reconstructed[i][:, 1]\n",
    "\n",
    "    max_strain = np.max(strain)\n",
    "    last_stress=stress[-2]\n",
    "    cut_off_index = int(len(strain) * 0.3)\n",
    "    strain_30_percent = strain[:cut_off_index]\n",
    "    stress_30_percent = stress[:cut_off_index]\n",
    " \n",
    "    yield_strength = np.max(stress_30_percent)\n",
    "\n",
    "    toughness = np.trapz(stress, strain)/100\n",
    "    if yield_strength<4 and max_strain>250 and last_stress<10:\n",
    "\n",
    "    #monomers_values = new_test_df.iloc[i][['R1(HA)', 'R2(IA)', 'R3(NVP)', 'R4(AA)', 'R5(HEAA)', 'R6(IBOA)']]\n",
    "    #if monomers_values[0]==0.21 and monomers_values[1]==0.37 and monomers_values[2]==0.07 and monomers_values[3]==0.22:\n",
    "        monomers_values = new_test_df.iloc[i][['R1(HA)', 'R2(IA)', 'R3(NVP)', 'R4(AA)', 'R5(HEAA)', 'R6(IBOA)']]\n",
    "   \n",
    "\n",
    "        filename = f'R1_{monomers_values[\"R1(HA)\"]}_R2_{monomers_values[\"R2(IA)\"]}_R3_{monomers_values[\"R3(NVP)\"]}_R4_{monomers_values[\"R4(AA)\"]}_R5_{monomers_values[\"R5(HEAA)\"]}_R6_{monomers_values[\"R6(IBOA)\"]}_laststress_{last_stress:.2f}_maxstrain_{max_strain:.2f}_toughness_{toughness:.2f}.png'\n",
    "\n",
    "        print(new_test_df.iloc[i][['R1(HA)', 'R2(IA)', 'R3(NVP)', 'R4(AA)', 'R5(HEAA)', 'R6(IBOA)']])\n",
    "        print(\"Last Stress (MPa):\", last_stress)\n",
    "        print(\"Max Strain (Breakage point):\", max_strain)\n",
    "        print(\"Toughness (Area under the curve)(MJ/m³):\", toughness)\n",
    "\n",
    "        plt.figure(figsize=(12, 6))\n",
    "        plt.plot(strain, stress, alpha=0.5)\n",
    "        plt.title('Stress-Strain Relationship')\n",
    "        plt.xlabel('Strain (%)')\n",
    "        plt.ylabel('Stress (MPa)')\n",
    "        plt.xlim(left=0)\n",
    "        plt.ylim(bottom=0)\n",
    "        filename = filename.replace('.png', '_evalues.png')\n",
    "        plt.savefig(os.path.join(save_folder, filename))\n",
    "        plt.close()\n",
    "        #plt.show()\n",
    "\n",
    "print(\"done\")"
   ]
  }
 ],
 "metadata": {
  "kernelspec": {
   "display_name": "Python 3",
   "language": "python",
   "name": "python3"
  },
  "language_info": {
   "codemirror_mode": {
    "name": "ipython",
    "version": 3
   },
   "file_extension": ".py",
   "mimetype": "text/x-python",
   "name": "python",
   "nbconvert_exporter": "python",
   "pygments_lexer": "ipython3",
   "version": "3.7.2"
  }
 },
 "nbformat": 4,
 "nbformat_minor": 5
}
